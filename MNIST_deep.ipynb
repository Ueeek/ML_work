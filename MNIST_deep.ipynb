{
 "cells": [
  {
   "cell_type": "markdown",
   "metadata": {},
   "source": [
    "# 研究室プロジェクトMNIST deepLearnign"
   ]
  },
  {
   "cell_type": "code",
   "execution_count": 1,
   "metadata": {},
   "outputs": [
    {
     "name": "stderr",
     "output_type": "stream",
     "text": [
      "Using TensorFlow backend.\n"
     ]
    }
   ],
   "source": [
    "# 必要なライブラリのインポート\n",
    "import keras\n",
    "from keras.datasets import mnist\n",
    "# Jupyter notebookを利用している際に、notebook内にplot結果を表示するようにする\n",
    "import matplotlib.pyplot as plt\n",
    "from sklearn import metrics\n",
    "%matplotlib inline\n",
    "\n",
    "#Kerasの関数でデータの読み込み。データをシャッフルして学習データと訓練データに分割\n",
    "(x_train, y_train), (x_test, y_test) = mnist.load_data()\n"
   ]
  },
  {
   "cell_type": "code",
   "execution_count": 2,
   "metadata": {},
   "outputs": [
    {
     "name": "stdout",
     "output_type": "stream",
     "text": [
      "(60000, 28, 28) (10000, 28, 28)\n"
     ]
    }
   ],
   "source": [
    "print(x_train.shape,x_test.shape)"
   ]
  },
  {
   "cell_type": "code",
   "execution_count": 3,
   "metadata": {},
   "outputs": [],
   "source": [
    "# 2次元データを数値に変換\n",
    "x_train = x_train.reshape(60000, 784)\n",
    "x_test = x_test.reshape(10000, 784)\n",
    "# 型変換\n",
    "x_train = x_train.astype('float32')\n",
    "x_test = x_test.astype('float32')\n",
    "# 255で割ったものを新たに変数とする\n",
    "x_train /= 255\n",
    "x_test /= 255"
   ]
  },
  {
   "cell_type": "markdown",
   "metadata": {},
   "source": [
    "### one hot encoding\n",
    "#### 10クラスあるので、政界のラベルのクラスを１にしてそれ以外を０にする。元は、正解のラベルだけのデータだったが、それを10*1の行列にして、正解のラベルだけ１、その他を０にする操作。\n",
    "#### ex label=1 ~ [0,1,0,0,~~,0]"
   ]
  },
  {
   "cell_type": "code",
   "execution_count": 4,
   "metadata": {},
   "outputs": [],
   "source": [
    "# one-hot encodingを施すためのメソッド\n",
    "from keras.utils.np_utils import to_categorical\n",
    "# クラス数は10\n",
    "num_classes = 10\n",
    "y_train = y_train.astype('int32')\n",
    "y_test = y_test.astype('int32')\n",
    "# one-hot encoding\n",
    "y_train = to_categorical(y_train, num_classes)\n",
    "y_test =  to_categorical(y_test, num_classes)"
   ]
  },
  {
   "cell_type": "markdown",
   "metadata": {},
   "source": [
    "### deep learning "
   ]
  },
  {
   "cell_type": "markdown",
   "metadata": {},
   "source": [
    "# めも\n",
    "sequential そうを線形に積むモデル  \n",
    "Dense そうを作る  \n",
    "activation 活性化関数名  \n",
    "relu max(0,x)　早いらしいよ  \n",
    "dropout 過学習を防ぐ。ランダムに入力を０にする。  \n"
   ]
  },
  {
   "cell_type": "code",
   "execution_count": 5,
   "metadata": {},
   "outputs": [],
   "source": [
    "# 必要なライブラリのインポート、最適化手法はAdamを使う\n",
    "from keras.models import Sequential\n",
    "from keras.layers import Dense, Dropout\n",
    "from keras.optimizers import Adam\n",
    "\n",
    "# モデル作成\n",
    "model = Sequential()\n",
    "model.add(Dense(512, activation='relu', input_shape=(784,)))\n",
    "model.add(Dropout(0.2))\n",
    "model.add(Dense(512, activation='relu'))\n",
    "model.add(Dropout(0.2))\n",
    "model.add(Dense(10, activation='softmax'))"
   ]
  },
  {
   "cell_type": "code",
   "execution_count": 6,
   "metadata": {},
   "outputs": [
    {
     "name": "stdout",
     "output_type": "stream",
     "text": [
      "_________________________________________________________________\n",
      "Layer (type)                 Output Shape              Param #   \n",
      "=================================================================\n",
      "dense_1 (Dense)              (None, 512)               401920    \n",
      "_________________________________________________________________\n",
      "dropout_1 (Dropout)          (None, 512)               0         \n",
      "_________________________________________________________________\n",
      "dense_2 (Dense)              (None, 512)               262656    \n",
      "_________________________________________________________________\n",
      "dropout_2 (Dropout)          (None, 512)               0         \n",
      "_________________________________________________________________\n",
      "dense_3 (Dense)              (None, 10)                5130      \n",
      "=================================================================\n",
      "Total params: 669,706\n",
      "Trainable params: 669,706\n",
      "Non-trainable params: 0\n",
      "_________________________________________________________________\n"
     ]
    }
   ],
   "source": [
    "model.summary()"
   ]
  },
  {
   "cell_type": "markdown",
   "metadata": {},
   "source": [
    "# めも\n",
    "バッチサイズ　データを塊としてまとめて扱う　　\n",
    "エポック数　学習の繰り返し回数  \n",
    "損失関数　正解との差を最小化する。その指標　　\n",
    "optimizer 勾配(重み）の更新の手法を選択\n"
   ]
  },
  {
   "cell_type": "code",
   "execution_count": 7,
   "metadata": {},
   "outputs": [
    {
     "name": "stdout",
     "output_type": "stream",
     "text": [
      "Train on 60000 samples, validate on 10000 samples\n",
      "Epoch 1/20\n",
      "60000/60000 [==============================] - 12s 194us/step - loss: 0.2525 - acc: 0.9240 - val_loss: 0.1114 - val_acc: 0.9653\n",
      "Epoch 2/20\n",
      "60000/60000 [==============================] - 10s 174us/step - loss: 0.1003 - acc: 0.9688 - val_loss: 0.0769 - val_acc: 0.9756\n",
      "Epoch 3/20\n",
      "60000/60000 [==============================] - 13s 209us/step - loss: 0.0721 - acc: 0.9766 - val_loss: 0.0853 - val_acc: 0.9739\n",
      "Epoch 4/20\n",
      "60000/60000 [==============================] - 11s 177us/step - loss: 0.0578 - acc: 0.9816 - val_loss: 0.0664 - val_acc: 0.9786\n",
      "Epoch 5/20\n",
      "60000/60000 [==============================] - 13s 211us/step - loss: 0.0466 - acc: 0.9847 - val_loss: 0.0641 - val_acc: 0.9807\n",
      "Epoch 6/20\n",
      "60000/60000 [==============================] - 13s 212us/step - loss: 0.0375 - acc: 0.9879 - val_loss: 0.0764 - val_acc: 0.9794\n",
      "Epoch 7/20\n",
      "60000/60000 [==============================] - 13s 213us/step - loss: 0.0347 - acc: 0.9888 - val_loss: 0.0646 - val_acc: 0.9806\n",
      "Epoch 8/20\n",
      "60000/60000 [==============================] - 13s 211us/step - loss: 0.0291 - acc: 0.9904 - val_loss: 0.0688 - val_acc: 0.9812\n",
      "Epoch 9/20\n",
      "60000/60000 [==============================] - 11s 176us/step - loss: 0.0251 - acc: 0.9916 - val_loss: 0.0681 - val_acc: 0.9830\n",
      "Epoch 10/20\n",
      "60000/60000 [==============================] - 11s 186us/step - loss: 0.0261 - acc: 0.9912 - val_loss: 0.0739 - val_acc: 0.9811\n",
      "Epoch 11/20\n",
      "60000/60000 [==============================] - 13s 217us/step - loss: 0.0257 - acc: 0.9914 - val_loss: 0.0750 - val_acc: 0.9803\n",
      "Epoch 12/20\n",
      "60000/60000 [==============================] - 13s 212us/step - loss: 0.0215 - acc: 0.9930 - val_loss: 0.0775 - val_acc: 0.9807\n",
      "Epoch 13/20\n",
      "60000/60000 [==============================] - 13s 208us/step - loss: 0.0211 - acc: 0.9933 - val_loss: 0.0825 - val_acc: 0.9812\n",
      "Epoch 14/20\n",
      "60000/60000 [==============================] - 13s 214us/step - loss: 0.0179 - acc: 0.9938 - val_loss: 0.0836 - val_acc: 0.9793\n",
      "Epoch 15/20\n",
      "60000/60000 [==============================] - 12s 196us/step - loss: 0.0204 - acc: 0.9935 - val_loss: 0.0696 - val_acc: 0.9833\n",
      "Epoch 16/20\n",
      "60000/60000 [==============================] - 10s 168us/step - loss: 0.0165 - acc: 0.9944 - val_loss: 0.0692 - val_acc: 0.9842\n",
      "Epoch 17/20\n",
      "60000/60000 [==============================] - 11s 186us/step - loss: 0.0201 - acc: 0.9933 - val_loss: 0.0766 - val_acc: 0.9820\n",
      "Epoch 18/20\n",
      "60000/60000 [==============================] - 10s 171us/step - loss: 0.0153 - acc: 0.9947 - val_loss: 0.0844 - val_acc: 0.9805\n",
      "Epoch 19/20\n",
      "60000/60000 [==============================] - 12s 206us/step - loss: 0.0152 - acc: 0.9952 - val_loss: 0.0824 - val_acc: 0.9817\n",
      "Epoch 20/20\n",
      "60000/60000 [==============================] - 13s 209us/step - loss: 0.0143 - acc: 0.9953 - val_loss: 0.0826 - val_acc: 0.9825\n",
      "Test loss: 0.08260462062627157\n",
      "Test accuracy: 0.9825\n"
     ]
    }
   ],
   "source": [
    "# バッチサイズ、エポック数\n",
    "batch_size = 128\n",
    "epochs = 20\n",
    "\n",
    "model.compile(loss='categorical_crossentropy',\n",
    "              optimizer=Adam(),\n",
    "              metrics=['accuracy'])\n",
    "\n",
    "history = model.fit(x_train, y_train,\n",
    "                    batch_size=batch_size,\n",
    "                    epochs=epochs,\n",
    "                    verbose=1,\n",
    "                    validation_data=(x_test, y_test))\n",
    "score = model.evaluate(x_test, y_test, verbose=0)\n",
    "print('Test loss:', score[0])\n",
    "print('Test accuracy:', score[1])"
   ]
  },
  {
   "cell_type": "code",
   "execution_count": 8,
   "metadata": {},
   "outputs": [
    {
     "data": {
      "image/png": "[encoded data removed]",
      "text/plain": [
       "<Figure size 432x288 with 1 Axes>"
      ]
     },
     "metadata": {
      "needs_background": "light"
     },
     "output_type": "display_data"
    },
    {
     "data": {
      "image/png": "[encoded data removed]",
      "text/plain": [
       "<Figure size 432x288 with 1 Axes>"
      ]
     },
     "metadata": {
      "needs_background": "light"
     },
     "output_type": "display_data"
    }
   ],
   "source": [
    "#Accuracy\n",
    "plt.plot(history.history['acc'])\n",
    "plt.plot(history.history['val_acc'])\n",
    "plt.title('model accuracy')\n",
    "plt.ylabel('accuracy')\n",
    "plt.xlabel('epoch')\n",
    "plt.legend(['train', 'test'], loc='upper left')\n",
    "plt.show()\n",
    "#loss\n",
    "plt.plot(history.history['loss'])\n",
    "plt.plot(history.history['val_loss'])\n",
    "plt.title('model loss')\n",
    "plt.ylabel('loss')\n",
    "plt.xlabel('epoch')\n",
    "plt.legend(['train', 'test'], loc='upper left')\n",
    "plt.show()"
   ]
  },
  {
   "cell_type": "markdown",
   "metadata": {},
   "source": [
    "### confusion matrixc "
   ]
  },
  {
   "cell_type": "code",
   "execution_count": 9,
   "metadata": {},
   "outputs": [
    {
     "data": {
      "text/plain": [
       "array([7, 2, 1, ..., 4, 5, 6])"
      ]
     },
     "execution_count": 9,
     "metadata": {},
     "output_type": "execute_result"
    }
   ],
   "source": [
    "#confusion matrix\n",
    "y_test.argmax(axis=1)"
   ]
  },
  {
   "cell_type": "code",
   "execution_count": 10,
   "metadata": {},
   "outputs": [],
   "source": [
    "pred = model.predict_classes(x_test)"
   ]
  },
  {
   "cell_type": "code",
   "execution_count": 11,
   "metadata": {},
   "outputs": [
    {
     "data": {
      "text/plain": [
       "array([[ 972,    1,    0,    1,    0,    1,    1,    2,    1,    1],\n",
       "       [   0, 1131,    0,    1,    0,    1,    0,    1,    1,    0],\n",
       "       [   3,    1, 1013,    1,    1,    0,    4,    5,    4,    0],\n",
       "       [   2,    0,    3,  986,    0,    8,    0,    6,    3,    2],\n",
       "       [   0,    1,    3,    0,  971,    0,    3,    0,    0,    4],\n",
       "       [   1,    0,    0,    3,    1,  880,    3,    1,    2,    1],\n",
       "       [   5,    4,    0,    0,    7,    5,  936,    0,    1,    0],\n",
       "       [   0,    3,    5,    0,    0,    0,    0, 1011,    2,    7],\n",
       "       [   6,    0,    3,    3,    5,    3,    1,    3,  944,    6],\n",
       "       [   1,    3,    1,    2,   13,    3,    0,    3,    2,  981]])"
      ]
     },
     "execution_count": 11,
     "metadata": {},
     "output_type": "execute_result"
    }
   ],
   "source": [
    "metrics.confusion_matrix(y_test.argmax(axis=1),pred)"
   ]
  },
  {
   "cell_type": "code",
   "execution_count": null,
   "metadata": {},
   "outputs": [],
   "source": []
  }
 ],
 "metadata": {
  "kernelspec": {
   "display_name": "Python 3",
   "language": "python",
   "name": "python3"
  },
  "language_info": {
   "codemirror_mode": {
    "name": "ipython",
    "version": 3
   },
   "file_extension": ".py",
   "mimetype": "text/x-python",
   "name": "python",
   "nbconvert_exporter": "python",
   "pygments_lexer": "ipython3",
   "version": "3.6.1"
  }
 },
 "nbformat": 4,
 "nbformat_minor": 2
}
