{
 "cells": [
  {
   "cell_type": "markdown",
   "metadata": {},
   "source": [
    "# cifar10の分類 deep-lernign (not cnn)"
   ]
  },
  {
   "cell_type": "code",
   "execution_count": 1,
   "metadata": {},
   "outputs": [
    {
     "name": "stderr",
     "output_type": "stream",
     "text": [
      "Using TensorFlow backend.\n"
     ]
    }
   ],
   "source": [
    "from keras.models import Sequential\n",
    "from keras.layers import Dense\n",
    "from keras.optimizers import Adam\n",
    "from keras.datasets import cifar10\n",
    "from  keras.utils import np_utils\n",
    "import numpy as np\n",
    "import matplotlib.pyplot as plt"
   ]
  },
  {
   "cell_type": "code",
   "execution_count": 2,
   "metadata": {},
   "outputs": [],
   "source": [
    "#read_data\n",
    "(x_train,y_train),(x_test,y_test) = cifar10.load_data()"
   ]
  },
  {
   "cell_type": "code",
   "execution_count": 3,
   "metadata": {},
   "outputs": [],
   "source": [
    "x_train = x_train / 255.0\n",
    "x_test = x_test / 255.0"
   ]
  },
  {
   "cell_type": "code",
   "execution_count": 4,
   "metadata": {},
   "outputs": [],
   "source": [
    "\n",
    "m_train, m_test = x_train.shape[0], x_test.shape[0]\n",
    "# reshape to vector\n",
    "x_train, x_test = x_train.reshape(m_train, -1), x_test.reshape(m_test, -1)\n"
   ]
  },
  {
   "cell_type": "code",
   "execution_count": 5,
   "metadata": {},
   "outputs": [],
   "source": [
    "#s=True)\n",
    "# x_train = x_train / np.linalg.norm(x_train, ord=2, axis=1, keepdims=True)\n",
    "# x_test = x_test / np.linalg.norm(x_test, ord=2, axis=1, keepdim\n"
   ]
  },
  {
   "cell_type": "code",
   "execution_count": 6,
   "metadata": {},
   "outputs": [],
   "source": [
    "#one hot label\n",
    "y_train=np_utils.to_categorical(y_train,10)\n",
    "y_test=np_utils.to_categorical(y_test,10)"
   ]
  },
  {
   "cell_type": "code",
   "execution_count": 7,
   "metadata": {},
   "outputs": [
    {
     "data": {
      "text/plain": [
       "(50000, 3072)"
      ]
     },
     "execution_count": 7,
     "metadata": {},
     "output_type": "execute_result"
    }
   ],
   "source": [
    "x_train.shape"
   ]
  },
  {
   "cell_type": "markdown",
   "metadata": {},
   "source": [
    "# モデル"
   ]
  },
  {
   "cell_type": "code",
   "execution_count": 8,
   "metadata": {},
   "outputs": [],
   "source": [
    "model = Sequential()\n",
    "model.add(Dense(768, activation=\"relu\", input_shape=x_train.shape[1:]))\n",
    "model.add(Dense(192, activation=\"relu\"))\n",
    "model.add(Dense(10, activation=\"softmax\"))"
   ]
  },
  {
   "cell_type": "code",
   "execution_count": 9,
   "metadata": {},
   "outputs": [
    {
     "name": "stdout",
     "output_type": "stream",
     "text": [
      "Epoch 1/15\n",
      "50000/50000 [==============================] - 67s 1ms/step - loss: 1.8998 - acc: 0.3201\n",
      "Epoch 2/15\n",
      "50000/50000 [==============================] - 65s 1ms/step - loss: 1.6727 - acc: 0.4006\n",
      "Epoch 3/15\n",
      "50000/50000 [==============================] - 65s 1ms/step - loss: 1.5873 - acc: 0.4329\n",
      "Epoch 4/15\n",
      "50000/50000 [==============================] - 63s 1ms/step - loss: 1.5327 - acc: 0.4513\n",
      "Epoch 5/15\n",
      "50000/50000 [==============================] - 63s 1ms/step - loss: 1.4879 - acc: 0.4687\n",
      "Epoch 6/15\n",
      "50000/50000 [==============================] - 64s 1ms/step - loss: 1.4584 - acc: 0.4782\n",
      "Epoch 7/15\n",
      "50000/50000 [==============================] - 63s 1ms/step - loss: 1.4309 - acc: 0.4903\n",
      "Epoch 8/15\n",
      "50000/50000 [==============================] - 67s 1ms/step - loss: 1.4041 - acc: 0.4986\n",
      "Epoch 9/15\n",
      "50000/50000 [==============================] - 65s 1ms/step - loss: 1.3797 - acc: 0.5068\n",
      "Epoch 10/15\n",
      "50000/50000 [==============================] - 65s 1ms/step - loss: 1.3528 - acc: 0.5156\n",
      "Epoch 11/15\n",
      "50000/50000 [==============================] - 66s 1ms/step - loss: 1.3334 - acc: 0.5266\n",
      "Epoch 12/15\n",
      "50000/50000 [==============================] - 68s 1ms/step - loss: 1.3164 - acc: 0.5304\n",
      "Epoch 13/15\n",
      "50000/50000 [==============================] - 61s 1ms/step - loss: 1.2911 - acc: 0.5402\n",
      "Epoch 14/15\n",
      "50000/50000 [==============================] - 59s 1ms/step - loss: 1.2737 - acc: 0.5449\n",
      "Epoch 15/15\n",
      "50000/50000 [==============================] - 58s 1ms/step - loss: 1.2550 - acc: 0.5530\n"
     ]
    }
   ],
   "source": [
    "model.compile(optimizer=Adam(), loss=\"categorical_crossentropy\", metrics=[\"accuracy\"])\n",
    "history = model.fit(x_train, y_train, batch_size=64, epochs=15)"
   ]
  },
  {
   "cell_type": "code",
   "execution_count": 10,
   "metadata": {},
   "outputs": [
    {
     "name": "stdout",
     "output_type": "stream",
     "text": [
      "Test loss: 1.4089443790435792\n",
      "Test accuracy: 0.5064\n"
     ]
    }
   ],
   "source": [
    "score = model.evaluate(x_test, y_test, verbose=0)\n",
    "print('Test loss:', score[0])\n",
    "print('Test accuracy:', score[1])"
   ]
  },
  {
   "cell_type": "code",
   "execution_count": 11,
   "metadata": {},
   "outputs": [
    {
     "data": {
      "image/png": "[encoded data removed]",
      "text/plain": [
       "<Figure size 432x288 with 1 Axes>"
      ]
     },
     "metadata": {
      "needs_background": "light"
     },
     "output_type": "display_data"
    },
    {
     "data": {
      "image/png": "[encoded data removed]",
      "text/plain": [
       "<Figure size 432x288 with 1 Axes>"
      ]
     },
     "metadata": {
      "needs_background": "light"
     },
     "output_type": "display_data"
    }
   ],
   "source": [
    "import sklearn.metrics as metrics\n",
    "#Accuracy\n",
    "plt.plot(history.history['acc'])\n",
    "#plt.plot(history.history['val_acc'])\n",
    "plt.title('model accuracy')\n",
    "plt.ylabel('accuracy')\n",
    "plt.xlabel('epoch')\n",
    "plt.legend(['train', 'test'], loc='upper left')\n",
    "plt.show()\n",
    "#loss\n",
    "plt.plot(history.history['loss'])\n",
    "#plt.plot(history.history['val_loss'])\n",
    "plt.title('model loss')\n",
    "plt.ylabel('loss')\n",
    "plt.xlabel('epoch')\n",
    "plt.legend(['train', 'test'], loc='upper left')\n",
    "plt.show()"
   ]
  },
  {
   "cell_type": "code",
   "execution_count": 12,
   "metadata": {},
   "outputs": [
    {
     "data": {
      "text/plain": [
       "array([3, 8, 8, ..., 5, 1, 7])"
      ]
     },
     "execution_count": 12,
     "metadata": {},
     "output_type": "execute_result"
    }
   ],
   "source": [
    "#confusion matrix\n",
    "y_test.argmax(axis=1)"
   ]
  },
  {
   "cell_type": "code",
   "execution_count": 13,
   "metadata": {},
   "outputs": [],
   "source": [
    "pred = model.predict_classes(x_test)"
   ]
  },
  {
   "cell_type": "code",
   "execution_count": 14,
   "metadata": {},
   "outputs": [
    {
     "data": {
      "text/plain": [
       "array([[649,  30,  41,   9,  26,   8,  16,  26, 134,  61],\n",
       "       [ 48, 545,  12,   9,  12,  19,  12,  21,  74, 248],\n",
       "       [128,  20, 365,  46, 135,  77, 105,  70,  30,  24],\n",
       "       [ 73,  19,  98, 250,  77, 196, 122,  56,  46,  63],\n",
       "       [ 73,   9, 170,  25, 444,  46,  99,  89,  33,  12],\n",
       "       [ 48,  13, 104, 140,  88, 379,  77,  68,  44,  39],\n",
       "       [ 26,  17,  92,  34, 140,  51, 578,  19,  18,  25],\n",
       "       [ 63,  15,  64,  43, 102,  68,  25, 539,  21,  60],\n",
       "       [116,  58,  12,  11,  27,   8,   3,  15, 682,  68],\n",
       "       [ 45, 136,   8,   7,   8,  18,  25,  44,  76, 633]])"
      ]
     },
     "execution_count": 14,
     "metadata": {},
     "output_type": "execute_result"
    }
   ],
   "source": [
    "metrics.confusion_matrix(y_test.argmax(axis=1),pred)"
   ]
  },
  {
   "cell_type": "code",
   "execution_count": null,
   "metadata": {},
   "outputs": [],
   "source": []
  },
  {
   "cell_type": "code",
   "execution_count": null,
   "metadata": {},
   "outputs": [],
   "source": []
  }
 ],
 "metadata": {
  "kernelspec": {
   "display_name": "Python 3",
   "language": "python",
   "name": "python3"
  },
  "language_info": {
   "codemirror_mode": {
    "name": "ipython",
    "version": 3
   },
   "file_extension": ".py",
   "mimetype": "text/x-python",
   "name": "python",
   "nbconvert_exporter": "python",
   "pygments_lexer": "ipython3",
   "version": "3.6.1"
  }
 },
 "nbformat": 4,
 "nbformat_minor": 2
}
